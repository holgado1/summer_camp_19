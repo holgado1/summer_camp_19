{
 "cells": [
  {
   "cell_type": "markdown",
   "metadata": {},
   "source": [
    "### Import Libraries\n",
    "First, we must import the libraries we need for this program.        <br> \n",
    "These libraries allow us to:\n",
    "\n",
    "-Produce images, draw on them, and display them in this notebook.    <br>\n",
    "-Create 2-D data arrays and perform mathematical operations on them. <br>"
   ]
  },
  {
   "cell_type": "code",
   "execution_count": null,
   "metadata": {},
   "outputs": [],
   "source": [
    "%matplotlib inline\n",
    "from PIL import Image, ImageFont, ImageDraw\n",
    "import matplotlib.pyplot as plt\n",
    "import numpy as np"
   ]
  },
  {
   "cell_type": "markdown",
   "metadata": {},
   "source": [
    "### Set Image Resolution\n",
    "\n",
    "We are aiming to produce a cool image for a postcard/Instagram photo.  <br>\n",
    "The higher the resolution, the better the image. However, the higher   <br>\n",
    "the resolution, the more computing time necessary.  \n",
    "\n",
    "An image is simply a 2-D array that contains pixel values. The         <br>\n",
    "following two lines of code initialize a 2-D array of pixels values    <br>\n",
    "(initialized to zero) where the width of the image is 1.5x larger      <br>\n",
    "than the height (which is necessary for a postcard).  The              <br>\n",
    "`resolution`  variable (which must be in range of `[1, 10]`), tells    <br>\n",
    "the program how resolved we want the image.  `resolution = 1` produces <br>\n",
    "a 150x100 px image.  `resolution = 10` produces a 1500x1000 px image.  "
   ]
  },
  {
   "cell_type": "code",
   "execution_count": null,
   "metadata": {},
   "outputs": [],
   "source": [
    "resolution = 1  # must be in range [1,10], 1: lowest res, 10: highest res\n",
    "julia_set = np.zeros((int(resolution)*100, int(resolution)*150), dtype=np.uint8)"
   ]
  },
  {
   "cell_type": "markdown",
   "metadata": {},
   "source": [
    "### Creating a Julia Set\n",
    "With only 8 lines of code we can make a very, very complex image.       <br>\n",
    "We only use loops that were discussed during the presentation:          <br>\n",
    "two `for` loops that cycle through each pixel in the 2-d array (image), <br>\n",
    "and a `while` loop that sets the pixel value at a given x-y coordinate.  \n",
    "\n",
    "It is amazing that in only seconds, more than 100,000 loops are         <br>\n",
    "executed.  Imagine if you had to do this by hand!!!!  "
   ]
  },
  {
   "cell_type": "code",
   "execution_count": null,
   "metadata": {},
   "outputs": [],
   "source": [
    "for i in range(len(julia_set)):\n",
    "    for j in range(len(julia_set[i])):\n",
    "        x = -2. + j*(8./3.)/len(julia_set)\n",
    "        y = -1. + i*(2./1.)/len(julia_set)\n",
    "        z = complex(x, y)\n",
    "        while np.absolute(z) <= 2:\n",
    "            z = z**2 + complex(-0.835, -0.2321)\n",
    "            julia_set[i, j] += 1\n",
    "            \n",
    "print(\"Total number of loops:\", np.sum(julia_set))"
   ]
  },
  {
   "cell_type": "markdown",
   "metadata": {},
   "source": [
    "### Colormap\n",
    "\n",
    "Now our 2-D array is filled with numbers (corresponding to how many loops <br>\n",
    "were required to finish the for loop at a given x-y coordinate (or        <br>\n",
    "`[i, j]` index). Now we have to turn this array into an image we can see! <br>\n",
    "First, we must assign these pixel values to a colormap. Here is a nice    <br>\n",
    "site that shows you all the of the colormaps available by default:\n",
    "\n",
    "https://matplotlib.org/3.1.0/tutorials/colors/colormaps.html              \n",
    "\n",
    "Find one you like. Replace `afmhot` with your colormap of choice.     <br>\n",
    "You may produce a prettier image by changing the variable `contrast`.     <br>\n",
    "`constrast` must be in range `[1, 10]` and effectively changes the        <br>\n",
    "contrast of the image. "
   ]
  },
  {
   "cell_type": "code",
   "execution_count": null,
   "metadata": {},
   "outputs": [],
   "source": [
    "contrast = 7  # must be in range [1,10], 1: lowest contrast, 10: highest constrast\n",
    "\n",
    "normalized_colormap = plt.cm.ScalarMappable(norm=plt.Normalize(vmin=0, vmax=20*(11-contrast)), \n",
    "                                            cmap=plt.cm.afmhot)\n",
    "\n",
    "my_photo = (Image.fromarray(np.uint8(normalized_colormap.to_rgba(julia_set)*255))\n",
    "                 .resize((1800, 1200), Image.ANTIALIAS))\n",
    "\n",
    "my_photo"
   ]
  },
  {
   "cell_type": "markdown",
   "metadata": {},
   "source": [
    "### Drawing on the Image\n",
    "\n",
    "Let's write our name, event name, and a personal message               <br>\n",
    "in the bottom left-hand corner. Edit the `name`, (`event`), and        <br>\n",
    "`personal_message` strings as you wish.  You can also change the       <br>\n",
    "color of your text by changing the values in the `color` tuple.  The   <br>\n",
    "color tuple contains (R, G, B, A) pixel values (each in range          <br>\n",
    "`[0, 255]`) where R=red, G=green, B=blue, and A=alpha=opacity.  I      <br>\n",
    "would keep the A value set to `255` but feel free to experiment with   <br>\n",
    "others.  For reference:\n",
    "\n",
    "Red = `(255, 0, 0, 255)` <br>\n",
    "Green = `(0, 255, 0, 255)` <br>\n",
    "Blue = `(0, 0, 255, 255)` <br>\n",
    "White = `(255, 255, 255, 255)` <br>\n",
    "Black = `(0, 0, 0, 255)` <br>"
   ]
  },
  {
   "cell_type": "code",
   "execution_count": null,
   "metadata": {},
   "outputs": [],
   "source": [
    "name = \"Patrick Mullen\"  # Your name\n",
    "event = \"UIUC Girls' Astronomy Summer Camp\"  # Event name\n",
    "personal_message = \"Julia Set\"  # Personal message\n",
    "color = (255,255,255,255)  # Color for text (in RGBA, where A=alpha=opacity)\n",
    "\n",
    "draw = ImageDraw.Draw(my_photo)\n",
    "my_font = ImageFont.truetype(\"my_font.ttf\", 25)\n",
    "draw.text((10, 1200-85), name, font=my_font, fill=color)\n",
    "draw.text((10, 1200-60), event, font=my_font, fill=color)\n",
    "draw.text((10, 1200-35), personal_message, font=my_font, fill=color)"
   ]
  },
  {
   "cell_type": "markdown",
   "metadata": {},
   "source": [
    "### Save your photo\n",
    "\n",
    "All that is left is to save your image.  Give it your filename <br> \n",
    "of choice and make sure to keep the `.png` extension.  "
   ]
  },
  {
   "cell_type": "code",
   "execution_count": null,
   "metadata": {},
   "outputs": [],
   "source": [
    "my_photo.save(\"pdmullen_fractal.png\")\n",
    "my_photo"
   ]
  },
  {
   "cell_type": "markdown",
   "metadata": {},
   "source": [
    "### References\n",
    "\n",
    "Loosely based on scripts located here:\n",
    "https://www.reddit.com/r/Python/comments/48sanl/julia_fractal_wallpaper_including_the_parallel/\n",
    "\n",
    "Font retrieved from:\n",
    "https://www.fontsquirrel.com/fonts/hattori-hanzo"
   ]
  }
 ],
 "metadata": {
  "kernelspec": {
   "display_name": "Python 3",
   "language": "python",
   "name": "python3"
  },
  "language_info": {
   "codemirror_mode": {
    "name": "ipython",
    "version": 3
   },
   "file_extension": ".py",
   "mimetype": "text/x-python",
   "name": "python",
   "nbconvert_exporter": "python",
   "pygments_lexer": "ipython3",
   "version": "3.7.3"
  }
 },
 "nbformat": 4,
 "nbformat_minor": 2
}
